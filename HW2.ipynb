{
 "cells": [
  {
   "cell_type": "code",
   "execution_count": 1,
   "metadata": {},
   "outputs": [
    {
     "data": {
      "text/plain": [
       "<Figure size 640x480 with 1 Axes>"
      ]
     },
     "metadata": {},
     "output_type": "display_data"
    }
   ],
   "source": [
    "# Some code for checking the answer of A\n",
    "\n",
    "import numpy as np\n",
    "\n",
    "from utils import summary\n",
    "\n",
    "measurements = np.array([\n",
    "    0.045, 1.055, 0.136, 1.894, 0.379, 0.136, 0.336, 1.070,\n",
    "    0.506, 0.088, 0.242, 1.639, 0.912, 0.412, 3.888, 0.361,\n",
    "    1.267, 0.567, 0.182, 0.036, 0.394, 0.209, 0.445, 0.179,\n",
    "])\n",
    "\n",
    "summary([measurements], [\"CPU-time (s)\"], rounding=3)"
   ]
  },
  {
   "cell_type": "code",
   "execution_count": 2,
   "metadata": {},
   "outputs": [
    {
     "name": "stdout",
     "output_type": "stream",
     "text": [
      "CI size for n=715: 0.09998098723872839 (t=1.96)\n"
     ]
    }
   ],
   "source": [
    "# Some code for part E\n",
    "\n",
    "import math\n",
    "\n",
    "import scipy.stats as stats\n",
    "\n",
    "def fn(n, s, t=None):\n",
    "    if not t:\n",
    "        t = stats.t.ppf(0.95, n-1)\n",
    "    print(\"CI size for n={}: {} (t={})\".format(n, s*2*(t/math.sqrt(n)), t))\n",
    "    \n",
    "s=0.682\n",
    "\n",
    "fn(715, s, t=1.96)"
   ]
  }
 ],
 "metadata": {
  "kernelspec": {
   "display_name": "Python 3",
   "language": "python",
   "name": "python3"
  },
  "language_info": {
   "codemirror_mode": {
    "name": "ipython",
    "version": 3
   },
   "file_extension": ".py",
   "mimetype": "text/x-python",
   "name": "python",
   "nbconvert_exporter": "python",
   "pygments_lexer": "ipython3",
   "version": "3.7.4"
  }
 },
 "nbformat": 4,
 "nbformat_minor": 2
}
